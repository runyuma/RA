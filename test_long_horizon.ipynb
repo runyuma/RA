{
 "cells": [
  {
   "cell_type": "code",
   "execution_count": 1,
   "metadata": {},
   "outputs": [
    {
     "name": "stderr",
     "output_type": "stream",
     "text": [
      "pybullet build time: May 20 2022 19:44:17\n",
      "2023-12-09 00:37:49.843124: I tensorflow/core/util/port.cc:110] oneDNN custom operations are on. You may see slightly different numerical results due to floating-point round-off errors from different computation orders. To turn them off, set the environment variable `TF_ENABLE_ONEDNN_OPTS=0`.\n",
      "2023-12-09 00:37:50.086331: I tensorflow/core/platform/cpu_feature_guard.cc:182] This TensorFlow binary is optimized to use available CPU instructions in performance-critical operations.\n",
      "To enable the following instructions: AVX2 AVX512F AVX512_VNNI FMA, in other operations, rebuild TensorFlow with the appropriate compiler flags.\n",
      "2023-12-09 00:37:51.498473: W tensorflow/compiler/tf2tensorrt/utils/py_utils.cc:38] TF-TRT Warning: Could not find TensorRT\n"
     ]
    }
   ],
   "source": [
    "\n",
    "from environments.pickplace_environment_residual import ResPickOrPlaceEnvWithoutLangReward\n",
    "from tasks.letter import PutblockonBowlSameColor\n",
    "import numpy as np\n",
    "import matplotlib.pyplot as plt\n",
    "from agents.LLMRL import LLMSAC,GuideSAC\n",
    "import cv2"
   ]
  },
  {
   "cell_type": "code",
   "execution_count": 2,
   "metadata": {},
   "outputs": [
    {
     "name": "stdout",
     "output_type": "stream",
     "text": [
      "startThreads creating 1 threads.\n",
      "starting thread 0\n",
      "started thread 0 \n",
      "argc=2\n",
      "argv[0] = --unused\n",
      "argv[1] = --start_demo_name=Physics Server\n",
      "ExampleBrowserThreadFunc started\n",
      "X11 functions dynamically loaded using dlopen/dlsym OK!\n",
      "X11 functions dynamically loaded using dlopen/dlsym OK!\n",
      "Creating context\n",
      "Created GL 3.3 context\n",
      "Direct GLX rendering context obtained\n",
      "Making context current\n",
      "GL_VENDOR=Intel\n",
      "GL_RENDERER=Mesa Intel(R) UHD Graphics (TGL GT1)\n",
      "GL_VERSION=4.6 (Core Profile) Mesa 23.0.4-0ubuntu1~22.04.1\n",
      "GL_SHADING_LANGUAGE_VERSION=4.60\n",
      "pthread_getconcurrency()=0\n",
      "Version = 4.6 (Core Profile) Mesa 23.0.4-0ubuntu1~22.04.1\n",
      "Vendor = Intel\n",
      "Renderer = Mesa Intel(R) UHD Graphics (TGL GT1)\n",
      "b3Printf: Selected demo: Physics Server\n",
      "startThreads creating 1 threads.\n",
      "starting thread 0\n",
      "started thread 0 \n",
      "MotionThreadFunc thread started\n"
     ]
    }
   ],
   "source": [
    "env = ResPickOrPlaceEnvWithoutLangReward(\n",
    "                                        task= PutblockonBowlSameColor,\n",
    "                                         image_obs=True,\n",
    "                                         residual=True,\n",
    "                                         observation_noise=5,\n",
    "                                         render=True,\n",
    "                                         multi_discrete=False,\n",
    "                                         scale_action=True,\n",
    "                                         ee=\"suction\",\n",
    "                                         scale_obs=True,\n",
    "                                         neglect_steps=False,\n",
    "                                         one_hot_action = True)"
   ]
  },
  {
   "cell_type": "code",
   "execution_count": 3,
   "metadata": {},
   "outputs": [
    {
     "name": "stdout",
     "output_type": "stream",
     "text": [
      "pos [[0.25, -0.4, 0.03], [-0.1, -0.4, 0.0], [0.0, -0.5, 0.0], [-0.05, -0.25, 0.0], [0.15, -0.3, 0.0], [0.25, -0.4, 0.03]]\n",
      "obj_names ['yellow block', 'green block', 'blue block', 'yellow bowl', 'green bowl', 'blue bowl']\n",
      "obj_ids [6, 7, 8]\n",
      "ven = Intel\n",
      "Workaround for some crash in the Intel OpenGL driver on Linux/Ubuntu\n",
      "ven = Intel\n",
      "Workaround for some crash in the Intel OpenGL driver on Linux/Ubuntu\n",
      "lang goal put the all letter on bowl of same color\n"
     ]
    },
    {
     "name": "stderr",
     "output_type": "stream",
     "text": [
      "X connection to :0 broken (explicit kill or server shutdown).\n"
     ]
    },
    {
     "ename": "",
     "evalue": "",
     "output_type": "error",
     "traceback": [
      "\u001b[1;31m在当前单元格或上一个单元格中执行代码时 Kernel 崩溃。请查看单元格中的代码，以确定故障的可能原因。有关详细信息，请单击 <a href='https://aka.ms/vscodeJupyterKernelCrash'>此处</a>。有关更多详细信息，请查看 Jupyter <a href='command:jupyter.viewOutput'>log</a>。"
     ]
    }
   ],
   "source": [
    "BOUNDS = np.float32([[-0.3, 0.3], [-0.8, -0.2], [0, 0.15]])\n",
    "pos_list = {\n",
    "    \"blue block\": [0., -0.5, 0.0],\n",
    "    \"green block\": [-0.1, -0.4, 0.0],\n",
    "    \"yellow block\": [0.25, -0.4, 0.03],\n",
    "    \"blue bowl\": [0.25, -0.4, 0.03],\n",
    "    \"green bowl\": [0.15, -0.3, 0.0],\n",
    "    \"yellow bowl\": [-0.05, -0.25, 0.0],\n",
    "}\n",
    "obs = env.reset(pos_list=pos_list)"
   ]
  }
 ],
 "metadata": {
  "kernelspec": {
   "display_name": "venv",
   "language": "python",
   "name": "python3"
  },
  "language_info": {
   "codemirror_mode": {
    "name": "ipython",
    "version": 3
   },
   "file_extension": ".py",
   "mimetype": "text/x-python",
   "name": "python",
   "nbconvert_exporter": "python",
   "pygments_lexer": "ipython3",
   "version": "3.8.18"
  }
 },
 "nbformat": 4,
 "nbformat_minor": 2
}
