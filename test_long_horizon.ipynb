{
 "cells": [
  {
   "cell_type": "code",
   "execution_count": 2,
   "metadata": {},
   "outputs": [
    {
     "name": "stderr",
     "output_type": "stream",
     "text": [
      "pybullet build time: May 20 2022 19:44:17\n",
      "2023-12-13 22:37:12.303440: I tensorflow/core/util/port.cc:110] oneDNN custom operations are on. You may see slightly different numerical results due to floating-point round-off errors from different computation orders. To turn them off, set the environment variable `TF_ENABLE_ONEDNN_OPTS=0`.\n",
      "2023-12-13 22:37:12.336279: I tensorflow/core/platform/cpu_feature_guard.cc:182] This TensorFlow binary is optimized to use available CPU instructions in performance-critical operations.\n",
      "To enable the following instructions: AVX2 AVX512F AVX512_VNNI FMA, in other operations, rebuild TensorFlow with the appropriate compiler flags.\n",
      "2023-12-13 22:37:13.464979: W tensorflow/compiler/tf2tensorrt/utils/py_utils.cc:38] TF-TRT Warning: Could not find TensorRT\n"
     ]
    }
   ],
   "source": [
    "\n",
    "from environments.pickplace_environment_residual import ResPickOrPlaceEnvWithoutLangReward\n",
    "from tasks.letter import PutblockonBowlSameColor\n",
    "import numpy as np\n",
    "import matplotlib.pyplot as plt\n",
    "from agents.LLMRL import LLMSAC,GuideSAC\n",
    "import cv2"
   ]
  },
  {
   "cell_type": "code",
   "execution_count": 3,
   "metadata": {},
   "outputs": [
    {
     "name": "stdout",
     "output_type": "stream",
     "text": [
      "startThreads creating 1 threads.\n",
      "starting thread 0\n",
      "started thread 0 \n",
      "argc=2\n",
      "argv[0] = --unused\n",
      "argv[1] = --start_demo_name=Physics Server\n",
      "ExampleBrowserThreadFunc started\n",
      "X11 functions dynamically loaded using dlopen/dlsym OK!\n",
      "X11 functions dynamically loaded using dlopen/dlsym OK!\n",
      "Creating context\n",
      "Created GL 3.3 context\n",
      "Direct GLX rendering context obtained\n",
      "Making context current\n",
      "GL_VENDOR=Intel\n",
      "GL_RENDERER=Mesa Intel(R) UHD Graphics (TGL GT1)\n",
      "GL_VERSION=4.6 (Core Profile) Mesa 23.0.4-0ubuntu1~22.04.1\n",
      "GL_SHADING_LANGUAGE_VERSION=4.60\n",
      "pthread_getconcurrency()=0\n",
      "Version = 4.6 (Core Profile) Mesa 23.0.4-0ubuntu1~22.04.1\n",
      "Vendor = Intel\n",
      "Renderer = Mesa Intel(R) UHD Graphics (TGL GT1)\n",
      "b3Printf: Selected demo: Physics Server\n",
      "startThreads creating 1 threads.\n",
      "starting thread 0\n",
      "started thread 0 \n",
      "MotionThreadFunc thread started\n"
     ]
    }
   ],
   "source": [
    "env = ResPickOrPlaceEnvWithoutLangReward(\n",
    "                                        task= PutblockonBowlSameColor,\n",
    "                                         image_obs=True,\n",
    "                                         residual=True,\n",
    "                                         observation_noise=0,\n",
    "                                         render=True,\n",
    "                                         multi_discrete=False,\n",
    "                                         scale_action=True,\n",
    "                                         ee=\"suction\",\n",
    "                                         scale_obs=True,\n",
    "                                         neglect_steps=False,\n",
    "                                         one_hot_action = True)"
   ]
  },
  {
   "cell_type": "code",
   "execution_count": 4,
   "metadata": {},
   "outputs": [
    {
     "name": "stdout",
     "output_type": "stream",
     "text": [
      "ven = Intel\n",
      "Workaround for some crash in the Intel OpenGL driver on Linux/Ubuntu\n",
      "ven = Intel\n",
      "Workaround for some crash in the Intel OpenGL driver on Linux/Ubuntu\n",
      "[False]\n",
      "[0.33482143 0.33482143 0.31696429 0.89285714 0.5        0.5\n",
      " 0.16517857 0.70982143 0.58482143 0.375      0.33482143 0.875     ]\n"
     ]
    }
   ],
   "source": [
    "BOUNDS = np.float32([[-0.3, 0.3], [-0.8, -0.2], [0, 0.15]])\n",
    "pos_list = {\n",
    "    \"blue block\": [0., -0.5, 0.0],\n",
    "    \"green block\": [0.25, -0.4, 0.03],\n",
    "    \"yellow block\": [-0.1, -0.4, 0.0],\n",
    "    \"blue bowl\": [0.25, -0.4, 0.03],\n",
    "    \"green bowl\": [-0.05, -0.55, 0.0],\n",
    "    \"yellow bowl\": [0.15, -0.3, 0.0],\n",
    "}\n",
    "obs,_ = env.reset_withpos(pos_list=pos_list)\n",
    "#remove lang_goal from obs\n",
    "del obs[\"lang_goal\"]\n",
    "print(obs[\"object_in_hand\"])\n",
    "print(obs[\"image\"])\n",
    "reset_obs = obs.copy()"
   ]
  },
  {
   "cell_type": "code",
   "execution_count": 5,
   "metadata": {},
   "outputs": [
    {
     "name": "stderr",
     "output_type": "stream",
     "text": [
      "/media/marunyu/Data/study/DELFT/master_thesis/RA/venv/lib/python3.8/site-packages/stable_baselines3/common/buffers.py:590: UserWarning: This system does not have apparently enough memory to store the complete replay buffer 12.05GB > 3.38GB\n",
      "  warnings.warn(\n"
     ]
    }
   ],
   "source": [
    "model = LLMSAC.load(\"tmp/llmsac_imgatten_withnoise_PutblockonBowlSameColorseed0_model/rl_model_80000_steps.zip\")"
   ]
  },
  {
   "cell_type": "code",
   "execution_count": 6,
   "metadata": {},
   "outputs": [
    {
     "name": "stdout",
     "output_type": "stream",
     "text": [
      "(array([0.01456138, 0.961753  , 0.5538709 , 0.39498058, 0.41294014,\n",
      "       0.21566832, 0.11456174, 0.17997694, 0.30545044], dtype=float32), None)\n",
      "object_in_hand\n",
      "1.0\n",
      "rgbd\n",
      "0.0\n",
      "image\n",
      "0.36813443085871966\n",
      "[ True]\n",
      "[-0.00446429  0.47767857  0.31696429  0.89285714  0.5         0.5\n",
      "  0.16517857  0.70982143  0.58482143  0.375       0.33482143  0.875     ]\n"
     ]
    }
   ],
   "source": [
    "act = model.predict(obs, deterministic=True)\n",
    "print(act)\n",
    "obs,_,_,_,_ = env.step(act[0])\n",
    "del obs[\"lang_goal\"]\n",
    "for i in obs.keys():\n",
    "    print(i)\n",
    "    print(np.linalg.norm(reset_obs[i].astype(float)-obs[i].astype(float)))\n",
    "print(obs[\"object_in_hand\"])\n",
    "print(obs[\"image\"])\n"
   ]
  },
  {
   "cell_type": "code",
   "execution_count": 10,
   "metadata": {},
   "outputs": [
    {
     "name": "stdout",
     "output_type": "stream",
     "text": [
      "(240, 240, 3)\n"
     ]
    },
    {
     "data": {
      "text/plain": [
       "<matplotlib.image.AxesImage at 0x7f641416e2b0>"
      ]
     },
     "execution_count": 10,
     "metadata": {},
     "output_type": "execute_result"
    },
    {
     "data": {
      "image/png": "[encoded data removed]",
      "text/plain": [
       "<Figure size 640x480 with 1 Axes>"
      ]
     },
     "metadata": {},
     "output_type": "display_data"
    },
    {
     "name": "stderr",
     "output_type": "stream",
     "text": [
      "XIO:  fatal IO error 62 (Timer expired) on X server \":0\"\n",
      "      after 16307 requests (16307 known processed) with 0 events remaining.\n"
     ]
    },
    {
     "ename": "",
     "evalue": "",
     "output_type": "error",
     "traceback": [
      "\u001b[1;31m在当前单元格或上一个单元格中执行代码时 Kernel 崩溃。请查看单元格中的代码，以确定故障的可能原因。有关详细信息，请单击 <a href='https://aka.ms/vscodeJupyterKernelCrash'>此处</a>。有关更多详细信息，请查看 Jupyter <a href='command:jupyter.viewOutput'>log</a>。"
     ]
    }
   ],
   "source": [
    "image = env.get_camera_image_top()\n",
    "print(image.shape)\n",
    "image = cv2.resize(image, (28, 28))\n",
    "plt.imshow(image)"
   ]
  }
 ],
 "metadata": {
  "kernelspec": {
   "display_name": "venv",
   "language": "python",
   "name": "python3"
  },
  "language_info": {
   "codemirror_mode": {
    "name": "ipython",
    "version": 3
   },
   "file_extension": ".py",
   "mimetype": "text/x-python",
   "name": "python",
   "nbconvert_exporter": "python",
   "pygments_lexer": "ipython3",
   "version": "3.8.18"
  }
 },
 "nbformat": 4,
 "nbformat_minor": 2
}
