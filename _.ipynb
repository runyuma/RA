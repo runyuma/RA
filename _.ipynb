{
 "cells": [
  {
   "cell_type": "code",
   "execution_count": 1,
   "metadata": {},
   "outputs": [
    {
     "name": "stdout",
     "output_type": "stream",
     "text": [
      "pybullet build time: Sep 22 2020 00:56:01\n",
      "Downloading...\n",
      "From: https://drive.google.com/uc?id=1Cc_fDSBL6QiDvNT4dpfAEbhbALSVoWcc\n",
      "To: /media/marunyu/Data/study/DELFT/master_thesis/RA/ur5e.zip\n",
      "100%|██████████████████████████████████████| 2.94M/2.94M [00:00<00:00, 5.08MB/s]\n",
      "Downloading...\n",
      "From: https://drive.google.com/uc?id=1yOMEm-Zp_DL3nItG9RozPeJAmeOldekX\n",
      "To: /media/marunyu/Data/study/DELFT/master_thesis/RA/robotiq_2f_85.zip\n",
      "100%|██████████████████████████████████████| 2.33M/2.33M [00:01<00:00, 1.76MB/s]\n",
      "Downloading...\n",
      "From: https://drive.google.com/uc?id=1GsqNLhEl9dd4Mc3BM0dX3MibOI1FVWNM\n",
      "To: /media/marunyu/Data/study/DELFT/master_thesis/RA/bowl.zip\n",
      "100%|████████████████████████████████████████| 181k/181k [00:00<00:00, 1.19MB/s]\n",
      "Archive:  ur5e.zip\n",
      "   creating: ur5e/\n",
      "   creating: ur5e/collision/\n",
      "  inflating: ur5e/collision/base.stl  \n",
      "  inflating: ur5e/collision/forearm.stl  \n",
      "  inflating: ur5e/collision/shoulder.stl  \n",
      "  inflating: ur5e/collision/upperarm.stl  \n",
      "  inflating: ur5e/collision/wrist1.stl  \n",
      "  inflating: ur5e/collision/wrist2.stl  \n",
      "  inflating: ur5e/collision/wrist3.stl  \n",
      "  inflating: ur5e/ur5e.urdf          \n",
      "   creating: ur5e/visual/\n",
      "  inflating: ur5e/visual/base.dae    \n",
      "  inflating: ur5e/visual/forearm.dae  \n",
      "  inflating: ur5e/visual/shoulder.dae  \n",
      "  inflating: ur5e/visual/upperarm.dae  \n",
      "  inflating: ur5e/visual/wrist1.dae  \n",
      "  inflating: ur5e/visual/wrist2.dae  \n",
      "  inflating: ur5e/visual/wrist3.dae  \n",
      "Archive:  robotiq_2f_85.zip\n",
      "   creating: robotiq_2f_85/\n",
      "  inflating: robotiq_2f_85/README.md  \n",
      "  inflating: robotiq_2f_85/robotiq-2f-base.mtl  \n",
      "  inflating: robotiq_2f_85/robotiq-2f-base.obj  \n",
      "  inflating: robotiq_2f_85/robotiq-2f-base.stl  \n",
      "  inflating: robotiq_2f_85/robotiq-2f-coupler.mtl  \n",
      "  inflating: robotiq_2f_85/robotiq-2f-coupler.obj  \n",
      "  inflating: robotiq_2f_85/robotiq-2f-coupler.stl  \n",
      "  inflating: robotiq_2f_85/robotiq-2f-driver.mtl  \n",
      "  inflating: robotiq_2f_85/robotiq-2f-driver.obj  \n",
      "  inflating: robotiq_2f_85/robotiq-2f-driver.stl  \n",
      "  inflating: robotiq_2f_85/robotiq-2f-follower.mtl  \n",
      "  inflating: robotiq_2f_85/robotiq-2f-follower.obj  \n",
      "  inflating: robotiq_2f_85/robotiq-2f-follower.stl  \n",
      "  inflating: robotiq_2f_85/robotiq-2f-pad.stl  \n",
      "  inflating: robotiq_2f_85/robotiq-2f-spring_link.mtl  \n",
      "  inflating: robotiq_2f_85/robotiq-2f-spring_link.obj  \n",
      "  inflating: robotiq_2f_85/robotiq-2f-spring_link.stl  \n",
      "  inflating: robotiq_2f_85/robotiq_2f_85.urdf  \n",
      "   creating: robotiq_2f_85/textures/\n",
      "  inflating: robotiq_2f_85/textures/gripper-2f_BaseColor.jpg  \n",
      "  inflating: robotiq_2f_85/textures/gripper-2f_Metallic.jpg  \n",
      "  inflating: robotiq_2f_85/textures/gripper-2f_Normal.jpg  \n",
      "  inflating: robotiq_2f_85/textures/gripper-2f_Roughness.jpg  \n",
      "Archive:  bowl.zip\n",
      "   creating: bowl/\n",
      "  inflating: bowl/bowl.urdf          \n",
      "  inflating: bowl/cup.obj            \n",
      "  inflating: bowl/textured-0008192.obj  \n"
     ]
    }
   ],
   "source": [
    "from environments.environment import Environment\n",
    "import os\n"
   ]
  },
  {
   "cell_type": "code",
   "execution_count": 1,
   "metadata": {},
   "outputs": [
    {
     "name": "stdout",
     "output_type": "stream",
     "text": [
      "device: cuda\n"
     ]
    }
   ],
   "source": [
    "import clip\n",
    "import torch\n",
    "device = \"cuda\" if torch.cuda.is_available() else \"cpu\"\n",
    "print(\"device:\", device)\n"
   ]
  },
  {
   "cell_type": "code",
   "execution_count": 2,
   "metadata": {},
   "outputs": [],
   "source": [
    "model, preprocess = clip.load(\"ViT-B/32\", device=device)\n",
    "# model, preprocess = clip.load(\"RN50\", device=device)"
   ]
  }
 ],
 "metadata": {
  "kernelspec": {
   "display_name": "cliport",
   "language": "python",
   "name": "python3"
  },
  "language_info": {
   "codemirror_mode": {
    "name": "ipython",
    "version": 3
   },
   "file_extension": ".py",
   "mimetype": "text/x-python",
   "name": "python",
   "nbconvert_exporter": "python",
   "pygments_lexer": "ipython3",
   "version": "3.8.16"
  },
  "orig_nbformat": 4,
  "vscode": {
   "interpreter": {
    "hash": "e285e3189e2c3705550e6f1561542eb0bf2036e0fba5138d48bba9b73467e388"
   }
  }
 },
 "nbformat": 4,
 "nbformat_minor": 2
}
