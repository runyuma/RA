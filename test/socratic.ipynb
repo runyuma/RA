{
 "cells": [
  {
   "cell_type": "code",
   "execution_count": 1,
   "metadata": {},
   "outputs": [],
   "source": [
    "# openai\n",
    "file = open(\"../key\", \"r\")\n",
    "openai_api_key = file.read()\n",
    "import openai\n",
    "openai.api_key = openai_api_key"
   ]
  },
  {
   "cell_type": "markdown",
   "metadata": {},
   "source": [
    "## **Socratic Models**"
   ]
  },
  {
   "cell_type": "code",
   "execution_count": 2,
   "metadata": {},
   "outputs": [],
   "source": [
    "gpt3_prompt = \"\"\"\n",
    "objects = [\"cyan block\", \"yellow block\", \"brown block\", \"green bowl\"]\n",
    "# move all the blocks to the top left corner.\n",
    "robot.pick_and_place(\"brown block\", \"top left corner\")\n",
    "robot.pick_and_place(\"cyan block\", \"top left corner\")\n",
    "robot.pick_and_place(\"yellow block\", \"top left corner\")\n",
    "# put the yellow one the green thing.\n",
    "robot.pick_and_place(\"yellow block\", \"green bowl\")\n",
    "# undo that.\n",
    "robot.pick_and_place(\"yellow block\", \"top left corner\")\n",
    "objects = [\"pink block\", \"gray block\", \"orange block\"]\n",
    "# move the pinkish colored block on the bottom side.\n",
    "robot.pick_and_place(\"pink block\", \"bottom side\")\n",
    "objects = [\"orange block\", \"purple bowl\", \"cyan block\", \"brown bowl\", \"pink block\"]\n",
    "# stack the blocks.\n",
    "robot.pick_and_place(\"pink block\", \"orange block\")\n",
    "robot.pick_and_place(\"cyan block\", \"pink block\")\n",
    "# unstack that.\n",
    "robot.pick_and_place(\"cyan block\", \"bottom left\")\n",
    "robot.pick_and_place(\"pink block\", \"left side\")\n",
    "objects = [\"red block\", \"brown block\", \"purple bowl\", \"gray bowl\", \"brown bowl\", \"pink block\", \"purple block\"]\n",
    "# group the brown objects together.\n",
    "robot.pick_and_place(\"brown block\", \"brown bowl\")\n",
    "objects = [\"orange bowl\", \"red block\", \"orange block\", \"red bowl\", \"purple bowl\", \"purple block\"]\n",
    "# sort all the blocks into their matching color bowls.\n",
    "robot.pick_and_place(\"orange block\", \"orange bowl\")\n",
    "robot.pick_and_place(\"red block\", \"red bowl\")\n",
    "robot.pick_and_place(\"purple block\", \"purple bowl\")\n",
    "\"\"\"\n",
    "\n",
    "gpt_version = \"text-davinci-002\"\n",
    "def LM(prompt, max_tokens=128, temperature=0, stop=None):\n",
    "  response = openai.Completion.create(engine=gpt_version, prompt=prompt, max_tokens=max_tokens, temperature=temperature, stop=stop)\n",
    "  return response[\"choices\"][0][\"text\"].strip()\n",
    "\n",
    "# def VLM(img):\n",
    "#   imageio.imwrite('tmp.jpg', img)\n",
    "#   found_objects = vild(image_path, category_name_string, vild_params, plot_on=True)\n",
    "#   return 'objects = [' + ', '.join([f'\\\"{o}\\\"' for o in found_objects]) + ']'"
   ]
  },
  {
   "cell_type": "markdown",
   "metadata": {},
   "source": []
  },
  {
   "cell_type": "code",
   "execution_count": 4,
   "metadata": {},
   "outputs": [
    {
     "name": "stdout",
     "output_type": "stream",
     "text": [
      "robot.pick_and_place(\"blue block\", \"blue bowl\")\n",
      "robot.pick_and_place(\"yellow block\", \"yellow bowl\")\n",
      "robot.pick_and_place(\"green block\", \"green bowl\")\n"
     ]
    }
   ],
   "source": [
    "user_input = 'put all blocks in the bowl of same color'\n",
    "# user_input = 'stack all the blocks together'\n",
    "scene_description = \"objects = [blue bowl,yellow bowl,green bowl,blue block,yellow block,green block]\"\n",
    "context = gpt3_prompt\n",
    "context += scene_description + '\\n'\n",
    "context += '# ' + user_input + '\\n'\n",
    "response = LM(context, stop=['#', 'objects ='])\n",
    "context += response + '\\n'\n",
    "print(response)"
   ]
  },
  {
   "cell_type": "code",
   "execution_count": null,
   "metadata": {},
   "outputs": [],
   "source": [
    "## Saycan"
   ]
  }
 ],
 "metadata": {
  "kernelspec": {
   "display_name": "venv",
   "language": "python",
   "name": "python3"
  },
  "language_info": {
   "codemirror_mode": {
    "name": "ipython",
    "version": 3
   },
   "file_extension": ".py",
   "mimetype": "text/x-python",
   "name": "python",
   "nbconvert_exporter": "python",
   "pygments_lexer": "ipython3",
   "version": "3.10.12"
  }
 },
 "nbformat": 4,
 "nbformat_minor": 2
}
