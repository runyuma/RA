{
 "cells": [
  {
   "cell_type": "code",
   "execution_count": 2,
   "metadata": {},
   "outputs": [
    {
     "name": "stderr",
     "output_type": "stream",
     "text": [
      "pybullet build time: May 20 2022 19:44:17\n",
      "2023-10-24 09:55:46.493733: I tensorflow/core/util/port.cc:110] oneDNN custom operations are on. You may see slightly different numerical results due to floating-point round-off errors from different computation orders. To turn them off, set the environment variable `TF_ENABLE_ONEDNN_OPTS=0`.\n",
      "2023-10-24 09:55:46.523639: I tensorflow/core/platform/cpu_feature_guard.cc:182] This TensorFlow binary is optimized to use available CPU instructions in performance-critical operations.\n",
      "To enable the following instructions: AVX2 AVX512F AVX512_VNNI FMA, in other operations, rebuild TensorFlow with the appropriate compiler flags.\n",
      "2023-10-24 09:55:47.390017: W tensorflow/compiler/tf2tensorrt/utils/py_utils.cc:38] TF-TRT Warning: Could not find TensorRT\n"
     ]
    }
   ],
   "source": [
    "from environments.pickplace_environment_residual import ResPickOrPlaceEnvWithoutLangReward\n",
    "import numpy as np\n",
    "import matplotlib.pyplot as plt\n",
    "from tasks.task import PutBlockInBowl,PickBowl,PutBowlInBowl\n",
    "from stable_baselines3 import SAC,PPO,TD3\n",
    "from agents.LLMRL import LLMSAC\n",
    "import torch as th\n",
    "from gymnasium import spaces\n"
   ]
  },
  {
   "cell_type": "code",
   "execution_count": 3,
   "metadata": {},
   "outputs": [
    {
     "name": "stdout",
     "output_type": "stream",
     "text": [
      "input_dim: 145 14\n",
      "input_dim: 145 14\n",
      "input_dim: 145 14\n"
     ]
    },
    {
     "name": "stderr",
     "output_type": "stream",
     "text": [
      "/media/marunyu/Data/study/DELFT/master_thesis/RA/venv/lib/python3.8/site-packages/stable_baselines3/common/buffers.py:590: UserWarning: This system does not have apparently enough memory to store the complete replay buffer 8.04GB > 7.02GB\n",
      "  warnings.warn(\n"
     ]
    }
   ],
   "source": [
    "model =LLMSAC.load(\"tmp/llmsac_imgdrop15.0fixedputblockbowl_model/rl_model_80000_steps.zip\")"
   ]
  },
  {
   "cell_type": "code",
   "execution_count": 4,
   "metadata": {},
   "outputs": [],
   "source": [
    "Env_num = 10\n",
    "Envs = []\n",
    "seed = [i for i in range(Env_num)]\n",
    "for i in range(Env_num):\n",
    "    np.random.seed(seed[i])\n",
    "    env = ResPickOrPlaceEnvWithoutLangReward(\n",
    "    image_obs=True,\n",
    "    residual=True,\n",
    "    render=False,\n",
    "    multi_discrete=False,\n",
    "    scale_action=True,\n",
    "    ee =\"suction\",\n",
    "    scale_obs=True,\n",
    "    one_hot_action = True)\n",
    "    Envs.append(env)\n"
   ]
  },
  {
   "cell_type": "code",
   "execution_count": 5,
   "metadata": {},
   "outputs": [
    {
     "name": "stdout",
     "output_type": "stream",
     "text": [
      "reset 0 th env\n",
      "init scene\n",
      "obj_ids [6, 7, 8]\n",
      "lang goal put the green block in a green bowl\n",
      "reset 1 th env\n",
      "init scene\n",
      "obj_ids [6, 7, 8]\n",
      "lang goal put the blue block in a yellow bowl\n",
      "reset 2 th env\n",
      "init scene\n",
      "obj_ids [6, 7, 8]\n",
      "lang goal put the yellow block in a blue bowl\n",
      "reset 3 th env\n",
      "init scene\n",
      "obj_ids [6, 7, 8]\n",
      "lang goal put the yellow block in a green bowl\n",
      "reset 4 th env\n",
      "init scene\n",
      "init scene\n",
      "obj_ids [6, 7, 8]\n",
      "lang goal put the yellow block in a yellow bowl\n",
      "reset 5 th env\n",
      "init scene\n",
      "obj_ids [6, 7, 8]\n",
      "lang goal put the yellow block in a yellow bowl\n",
      "reset 6 th env\n",
      "init scene\n",
      "obj_ids [6, 7, 8]\n",
      "lang goal put the blue block in a blue bowl\n",
      "reset 7 th env\n",
      "init scene\n",
      "init scene\n",
      "obj_ids [6, 7, 8]\n",
      "lang goal put the blue block in a yellow bowl\n",
      "reset 8 th env\n",
      "init scene\n",
      "obj_ids [6, 7, 8]\n",
      "lang goal put the green block in a blue bowl\n",
      "reset 9 th env\n",
      "init scene\n",
      "obj_ids [6, 7, 8]\n",
      "lang goal put the yellow block in a blue bowl\n"
     ]
    }
   ],
   "source": [
    "Obs = []\n",
    "goals = []\n",
    "for i in range(10):\n",
    "    print(\"reset\",i,\"th env\")\n",
    "    obs,_ = Envs[i].reset()\n",
    "    Obs.append(obs)\n",
    "    goals.append(Envs[i].lang_goal)\n",
    "    Envs[i].close()"
   ]
  },
  {
   "cell_type": "code",
   "execution_count": 6,
   "metadata": {},
   "outputs": [
    {
     "data": {
      "application/vnd.jupyter.widget-view+json": {
       "model_id": "600ba71dae5d4073b1a560d5bb1f5c6a",
       "version_major": 2,
       "version_minor": 0
      },
      "text/plain": [
       "interactive(children=(IntSlider(value=4, description='env_id', max=9), Output()), _dom_classes=('widget-intera…"
      ]
     },
     "metadata": {},
     "output_type": "display_data"
    },
    {
     "data": {
      "text/plain": [
       "<function __main__.<lambda>(env_id)>"
      ]
     },
     "execution_count": 6,
     "metadata": {},
     "output_type": "execute_result"
    }
   ],
   "source": [
    "import ipywidgets\n",
    "def plot_observation(env_id):\n",
    "    print(\"goal:\",goals[env_id])\n",
    "    plt.subplot(1,2,1)\n",
    "    plt.imshow(Obs[env_id]['rgbd'][:,:,:3])\n",
    "    plt.subplot(1,2,2)\n",
    "    plt.imshow(Obs[env_id]['rgbd'][:,:,3])\n",
    "ipywidgets.interact(lambda env_id: plot_observation(env_id), env_id=(0,Env_num-1))"
   ]
  },
  {
   "cell_type": "code",
   "execution_count": 11,
   "metadata": {},
   "outputs": [
    {
     "data": {
      "application/vnd.jupyter.widget-view+json": {
       "model_id": "3f9e058a4e6f41c39289360978bcd029",
       "version_major": 2,
       "version_minor": 0
      },
      "text/plain": [
       "interactive(children=(IntSlider(value=4, description='env_id', max=9), FloatSlider(value=0.0, description='noi…"
      ]
     },
     "metadata": {},
     "output_type": "display_data"
    },
    {
     "data": {
      "text/plain": [
       "<function __main__.<lambda>(env_id, noise, position_noise)>"
      ]
     },
     "execution_count": 11,
     "metadata": {},
     "output_type": "execute_result"
    }
   ],
   "source": [
    "import copy\n",
    "def feature_extract(obs):\n",
    "    model.actor.set_training_mode(False)\n",
    "\n",
    "    observation, vectorized_env = model.actor.obs_to_tensor(obs)\n",
    "    extract_feature = model.policy.actor.extract_features(observation,model.policy.actor.features_extractor)\n",
    "    return extract_feature\n",
    "\n",
    "def show_feature(env_id,noise,position_noise,mask_goal = False):\n",
    "    \n",
    "    obs = copy.deepcopy(Obs[env_id])\n",
    "    obs['rgbd'][:,:,:3] += 0.5*noise * np.random.randn(56,56,3)\n",
    "    obs['rgbd'][:,:,3] += 0.5*noise * np.random.randn(56,56)\n",
    "    obs[\"image\"] += 0.5*position_noise * np.random.rand(obs[\"image\"].shape[0])\n",
    "    print(\"goal:\",goals[env_id])\n",
    "    plt.subplot(1,2,1)\n",
    "    plt.imshow(obs['rgbd'][:,:,:3])\n",
    "    plt.subplot(1,2,2)\n",
    "    plt.imshow(obs['rgbd'][:,:,3])\n",
    "    if mask_goal:\n",
    "        print(\"mask_goal:\",obs['lang_goal'])\n",
    "        idx = obs['lang_goal'][0]\n",
    "        obs['image'][idx*2:idx*2+2] = 0\n",
    "    print(\"action:\",np.round(model.predict(obs,deterministic = True)[0],2))\n",
    "    # print(\"action:\",model.policy.predict(obs,deterministic = True))\n",
    "    # print(\"action:\",model.policy.predict(obs),True)\n",
    "    extract_feature = feature_extract(obs)\n",
    "    print(\"extract_feature:\",extract_feature)\n",
    "ipywidgets.interact(lambda env_id,noise,position_noise: show_feature(env_id,noise,position_noise,1), env_id=(0,Env_num-1),noise=(0,1,0.1),position_noise=(0,1,0.1))"
   ]
  }
 ],
 "metadata": {
  "kernelspec": {
   "display_name": "venv",
   "language": "python",
   "name": "python3"
  },
  "language_info": {
   "codemirror_mode": {
    "name": "ipython",
    "version": 3
   },
   "file_extension": ".py",
   "mimetype": "text/x-python",
   "name": "python",
   "nbconvert_exporter": "python",
   "pygments_lexer": "ipython3",
   "version": "3.8.18"
  }
 },
 "nbformat": 4,
 "nbformat_minor": 2
}
